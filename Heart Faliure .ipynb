{
 "cells": [
  {
   "cell_type": "markdown",
   "metadata": {},
   "source": [
    "# Heart Faliure Prediction"
   ]
  },
  {
   "cell_type": "markdown",
   "metadata": {},
   "source": [
    "# Imports"
   ]
  },
  {
   "cell_type": "code",
   "execution_count": 1,
   "metadata": {},
   "outputs": [],
   "source": [
    "import pandas as pd #BIblioteca para construção e manipulação de data frames\n",
    "import numpy as np # BIblioteca para manipulação de dados numéricos\n",
    "import seaborn as sns #Biblioteca utilizada para plotar graficos\n",
    "import matplotlib.pyplot as plt #Biblioteca utilizada para plotar graficos\n",
    "from scipy.stats import norm # Biblioteca importa uma distribuição normal\n",
    "from scipy.stats import boxcox #\n",
    "from sklearn.svm import SVC #Ver documentação\n",
    "from sklearn.model_selection import train_test_split #Ver documentação\n",
    "from sklearn.model_selection import cross_validate #Ver documentação\n",
    "from sklearn.metrics import plot_confusion_matrix #Ver documentação\n",
    "from sklearn.preprocessing import StandardScaler #Ver documentação\n",
    "from sklearn.preprocessing import MinMaxScaler #Ver documentação\n",
    "from sklearn.preprocessing import RobustScaler #Ver documentação"
   ]
  },
  {
   "cell_type": "code",
   "execution_count": 2,
   "metadata": {},
   "outputs": [
    {
     "name": "stdout",
     "output_type": "stream",
     "text": [
      "<class 'pandas.core.frame.DataFrame'>\n",
      "RangeIndex: 299 entries, 0 to 298\n",
      "Data columns (total 13 columns):\n",
      " #   Column                    Non-Null Count  Dtype  \n",
      "---  ------                    --------------  -----  \n",
      " 0   age                       299 non-null    float64\n",
      " 1   anaemia                   299 non-null    int64  \n",
      " 2   creatinine_phosphokinase  299 non-null    int64  \n",
      " 3   diabetes                  299 non-null    int64  \n",
      " 4   ejection_fraction         299 non-null    int64  \n",
      " 5   high_blood_pressure       299 non-null    int64  \n",
      " 6   platelets                 299 non-null    float64\n",
      " 7   serum_creatinine          299 non-null    float64\n",
      " 8   serum_sodium              299 non-null    int64  \n",
      " 9   sex                       299 non-null    int64  \n",
      " 10  smoking                   299 non-null    int64  \n",
      " 11  time                      299 non-null    int64  \n",
      " 12  DEATH_EVENT               299 non-null    int64  \n",
      "dtypes: float64(3), int64(10)\n",
      "memory usage: 30.5 KB\n"
     ]
    },
    {
     "data": {
      "text/html": [
       "<div>\n",
       "<style scoped>\n",
       "    .dataframe tbody tr th:only-of-type {\n",
       "        vertical-align: middle;\n",
       "    }\n",
       "\n",
       "    .dataframe tbody tr th {\n",
       "        vertical-align: top;\n",
       "    }\n",
       "\n",
       "    .dataframe thead th {\n",
       "        text-align: right;\n",
       "    }\n",
       "</style>\n",
       "<table border=\"1\" class=\"dataframe\">\n",
       "  <thead>\n",
       "    <tr style=\"text-align: right;\">\n",
       "      <th></th>\n",
       "      <th>age</th>\n",
       "      <th>anaemia</th>\n",
       "      <th>creatinine_phosphokinase</th>\n",
       "      <th>diabetes</th>\n",
       "      <th>ejection_fraction</th>\n",
       "      <th>high_blood_pressure</th>\n",
       "      <th>platelets</th>\n",
       "      <th>serum_creatinine</th>\n",
       "      <th>serum_sodium</th>\n",
       "      <th>sex</th>\n",
       "      <th>smoking</th>\n",
       "      <th>time</th>\n",
       "      <th>DEATH_EVENT</th>\n",
       "    </tr>\n",
       "  </thead>\n",
       "  <tbody>\n",
       "    <tr>\n",
       "      <th>count</th>\n",
       "      <td>299.000000</td>\n",
       "      <td>299.000000</td>\n",
       "      <td>299.000000</td>\n",
       "      <td>299.000000</td>\n",
       "      <td>299.000000</td>\n",
       "      <td>299.000000</td>\n",
       "      <td>299.000000</td>\n",
       "      <td>299.00000</td>\n",
       "      <td>299.000000</td>\n",
       "      <td>299.000000</td>\n",
       "      <td>299.00000</td>\n",
       "      <td>299.000000</td>\n",
       "      <td>299.00000</td>\n",
       "    </tr>\n",
       "    <tr>\n",
       "      <th>mean</th>\n",
       "      <td>60.833893</td>\n",
       "      <td>0.431438</td>\n",
       "      <td>581.839465</td>\n",
       "      <td>0.418060</td>\n",
       "      <td>38.083612</td>\n",
       "      <td>0.351171</td>\n",
       "      <td>263358.029264</td>\n",
       "      <td>1.39388</td>\n",
       "      <td>136.625418</td>\n",
       "      <td>0.648829</td>\n",
       "      <td>0.32107</td>\n",
       "      <td>130.260870</td>\n",
       "      <td>0.32107</td>\n",
       "    </tr>\n",
       "    <tr>\n",
       "      <th>std</th>\n",
       "      <td>11.894809</td>\n",
       "      <td>0.496107</td>\n",
       "      <td>970.287881</td>\n",
       "      <td>0.494067</td>\n",
       "      <td>11.834841</td>\n",
       "      <td>0.478136</td>\n",
       "      <td>97804.236869</td>\n",
       "      <td>1.03451</td>\n",
       "      <td>4.412477</td>\n",
       "      <td>0.478136</td>\n",
       "      <td>0.46767</td>\n",
       "      <td>77.614208</td>\n",
       "      <td>0.46767</td>\n",
       "    </tr>\n",
       "    <tr>\n",
       "      <th>min</th>\n",
       "      <td>40.000000</td>\n",
       "      <td>0.000000</td>\n",
       "      <td>23.000000</td>\n",
       "      <td>0.000000</td>\n",
       "      <td>14.000000</td>\n",
       "      <td>0.000000</td>\n",
       "      <td>25100.000000</td>\n",
       "      <td>0.50000</td>\n",
       "      <td>113.000000</td>\n",
       "      <td>0.000000</td>\n",
       "      <td>0.00000</td>\n",
       "      <td>4.000000</td>\n",
       "      <td>0.00000</td>\n",
       "    </tr>\n",
       "    <tr>\n",
       "      <th>25%</th>\n",
       "      <td>51.000000</td>\n",
       "      <td>0.000000</td>\n",
       "      <td>116.500000</td>\n",
       "      <td>0.000000</td>\n",
       "      <td>30.000000</td>\n",
       "      <td>0.000000</td>\n",
       "      <td>212500.000000</td>\n",
       "      <td>0.90000</td>\n",
       "      <td>134.000000</td>\n",
       "      <td>0.000000</td>\n",
       "      <td>0.00000</td>\n",
       "      <td>73.000000</td>\n",
       "      <td>0.00000</td>\n",
       "    </tr>\n",
       "    <tr>\n",
       "      <th>50%</th>\n",
       "      <td>60.000000</td>\n",
       "      <td>0.000000</td>\n",
       "      <td>250.000000</td>\n",
       "      <td>0.000000</td>\n",
       "      <td>38.000000</td>\n",
       "      <td>0.000000</td>\n",
       "      <td>262000.000000</td>\n",
       "      <td>1.10000</td>\n",
       "      <td>137.000000</td>\n",
       "      <td>1.000000</td>\n",
       "      <td>0.00000</td>\n",
       "      <td>115.000000</td>\n",
       "      <td>0.00000</td>\n",
       "    </tr>\n",
       "    <tr>\n",
       "      <th>75%</th>\n",
       "      <td>70.000000</td>\n",
       "      <td>1.000000</td>\n",
       "      <td>582.000000</td>\n",
       "      <td>1.000000</td>\n",
       "      <td>45.000000</td>\n",
       "      <td>1.000000</td>\n",
       "      <td>303500.000000</td>\n",
       "      <td>1.40000</td>\n",
       "      <td>140.000000</td>\n",
       "      <td>1.000000</td>\n",
       "      <td>1.00000</td>\n",
       "      <td>203.000000</td>\n",
       "      <td>1.00000</td>\n",
       "    </tr>\n",
       "    <tr>\n",
       "      <th>max</th>\n",
       "      <td>95.000000</td>\n",
       "      <td>1.000000</td>\n",
       "      <td>7861.000000</td>\n",
       "      <td>1.000000</td>\n",
       "      <td>80.000000</td>\n",
       "      <td>1.000000</td>\n",
       "      <td>850000.000000</td>\n",
       "      <td>9.40000</td>\n",
       "      <td>148.000000</td>\n",
       "      <td>1.000000</td>\n",
       "      <td>1.00000</td>\n",
       "      <td>285.000000</td>\n",
       "      <td>1.00000</td>\n",
       "    </tr>\n",
       "  </tbody>\n",
       "</table>\n",
       "</div>"
      ],
      "text/plain": [
       "              age     anaemia  creatinine_phosphokinase    diabetes  \\\n",
       "count  299.000000  299.000000                299.000000  299.000000   \n",
       "mean    60.833893    0.431438                581.839465    0.418060   \n",
       "std     11.894809    0.496107                970.287881    0.494067   \n",
       "min     40.000000    0.000000                 23.000000    0.000000   \n",
       "25%     51.000000    0.000000                116.500000    0.000000   \n",
       "50%     60.000000    0.000000                250.000000    0.000000   \n",
       "75%     70.000000    1.000000                582.000000    1.000000   \n",
       "max     95.000000    1.000000               7861.000000    1.000000   \n",
       "\n",
       "       ejection_fraction  high_blood_pressure      platelets  \\\n",
       "count         299.000000           299.000000     299.000000   \n",
       "mean           38.083612             0.351171  263358.029264   \n",
       "std            11.834841             0.478136   97804.236869   \n",
       "min            14.000000             0.000000   25100.000000   \n",
       "25%            30.000000             0.000000  212500.000000   \n",
       "50%            38.000000             0.000000  262000.000000   \n",
       "75%            45.000000             1.000000  303500.000000   \n",
       "max            80.000000             1.000000  850000.000000   \n",
       "\n",
       "       serum_creatinine  serum_sodium         sex    smoking        time  \\\n",
       "count         299.00000    299.000000  299.000000  299.00000  299.000000   \n",
       "mean            1.39388    136.625418    0.648829    0.32107  130.260870   \n",
       "std             1.03451      4.412477    0.478136    0.46767   77.614208   \n",
       "min             0.50000    113.000000    0.000000    0.00000    4.000000   \n",
       "25%             0.90000    134.000000    0.000000    0.00000   73.000000   \n",
       "50%             1.10000    137.000000    1.000000    0.00000  115.000000   \n",
       "75%             1.40000    140.000000    1.000000    1.00000  203.000000   \n",
       "max             9.40000    148.000000    1.000000    1.00000  285.000000   \n",
       "\n",
       "       DEATH_EVENT  \n",
       "count    299.00000  \n",
       "mean       0.32107  \n",
       "std        0.46767  \n",
       "min        0.00000  \n",
       "25%        0.00000  \n",
       "50%        0.00000  \n",
       "75%        1.00000  \n",
       "max        1.00000  "
      ]
     },
     "execution_count": 2,
     "metadata": {},
     "output_type": "execute_result"
    }
   ],
   "source": [
    "data = pd.read_csv(\"heart_failure_clinical_records_dataset.csv\") #Transforma arquivo CSV em DataFrame do pandas\n",
    "column_names = list(data.columns) #Armazena nome das colunas na variável\n",
    "data.head() \n",
    "data.info()\n",
    "data.describe()\n"
   ]
  },
  {
   "cell_type": "markdown",
   "metadata": {},
   "source": [
    "**Fonte dos dados: https://www.kaggle.com/andrewmvd/heart-failure-clinical-data**\n",
    "\n",
    "\n"
   ]
  },
  {
   "cell_type": "markdown",
   "metadata": {},
   "source": [
    "# Investigando Estratificação dos dados Pelas classes de \"DEATH_EVENTS\""
   ]
  },
  {
   "cell_type": "code",
   "execution_count": 3,
   "metadata": {},
   "outputs": [
    {
     "name": "stdout",
     "output_type": "stream",
     "text": [
      "Ocorrência de óbito 32.11 %\n",
      "Sbreviventes 67.89 %\n"
     ]
    }
   ],
   "source": [
    "print('Ocorrência de óbito',round((data.DEATH_EVENT.sum()/data.DEATH_EVENT.count()*100),2),'%')\n",
    "print('Sbreviventes',round(100 - (data.DEATH_EVENT.sum()/data.DEATH_EVENT.count()*100),2),'%')"
   ]
  },
  {
   "cell_type": "markdown",
   "metadata": {},
   "source": [
    "Percebemos que a amóstra não e balanceada em suas Classes, sendo a ocorrência de óbito = 32.11 %  e a de sobreviventes = 67.89 %"
   ]
  },
  {
   "cell_type": "markdown",
   "metadata": {},
   "source": [
    "# Realizando Predição dos dados em seu estado de fornecimento"
   ]
  },
  {
   "cell_type": "markdown",
   "metadata": {},
   "source": [
    "Realizamos a divisão entre dados de treino e estes estratificando a amostra pela proporção da classe: 'DEATH_EVENTS'"
   ]
  },
  {
   "cell_type": "code",
   "execution_count": 4,
   "metadata": {},
   "outputs": [
    {
     "name": "stdout",
     "output_type": "stream",
     "text": [
      "Acurácia do modelo = 68.0% \n"
     ]
    }
   ],
   "source": [
    "#Score for random state 18\n",
    "X, y = data.drop(columns='DEATH_EVENT'), data.DEATH_EVENT \n",
    "x_train, x_test, y_train, y_test = train_test_split(X, y, test_size = 0.25,random_state = 18, stratify=y)\n",
    "clf = SVC()\n",
    "clf.fit(x_train, y_train)\n",
    "print('Acurácia do modelo = {}% '.format(clf.score(x_test,y_test) *100))\n"
   ]
  },
  {
   "cell_type": "markdown",
   "metadata": {},
   "source": [
    "## Matriz de confusão da amostra"
   ]
  },
  {
   "cell_type": "code",
   "execution_count": 5,
   "metadata": {},
   "outputs": [
    {
     "data": {
      "text/plain": [
       "<sklearn.metrics._plot.confusion_matrix.ConfusionMatrixDisplay at 0x7f7b2c2c6040>"
      ]
     },
     "execution_count": 5,
     "metadata": {},
     "output_type": "execute_result"
    },
    {
     "data": {
      "image/png": "[encoded data removed]",
      "text/plain": [
       "<Figure size 432x288 with 2 Axes>"
      ]
     },
     "metadata": {
      "needs_background": "light"
     },
     "output_type": "display_data"
    }
   ],
   "source": [
    "matrix = plot_confusion_matrix(clf,x_test, y_test)\n",
    "matrix"
   ]
  },
  {
   "cell_type": "code",
   "execution_count": 6,
   "metadata": {},
   "outputs": [],
   "source": [
    "matrix.figure_.savefig(\"raw.png\")"
   ]
  },
  {
   "cell_type": "code",
   "execution_count": 7,
   "metadata": {},
   "outputs": [
    {
     "data": {
      "text/plain": [
       "array([0, 0, 0, 0, 0, 0, 0, 0, 0, 0, 0, 0, 0, 0, 0, 0, 0, 0, 0, 0, 0, 0,\n",
       "       0, 0, 0, 0, 0, 0, 0, 0, 0, 0, 0, 0, 0, 0, 0, 0, 0, 0, 0, 0, 0, 0,\n",
       "       0, 0, 0, 0, 0, 0, 0, 0, 0, 0, 0, 0, 0, 0, 0, 0, 0, 0, 0, 0, 0, 0,\n",
       "       0, 0, 0, 0, 0, 0, 0, 0, 0])"
      ]
     },
     "execution_count": 7,
     "metadata": {},
     "output_type": "execute_result"
    }
   ],
   "source": [
    "clf.predict(x_test)"
   ]
  },
  {
   "cell_type": "markdown",
   "metadata": {},
   "source": [
    " Percebemos que o modelo classifica todas as amostras testadas como sobreviventes, portanto sua acurária é igual\n",
    "a proporção de casos de sobrevivente. Por consequencia o modelo classifica erronamente todos os pacientes que foram à óbito"
   ]
  },
  {
   "cell_type": "markdown",
   "metadata": {},
   "source": [
    "### Realizando medição de acurácia por Cross validation"
   ]
  },
  {
   "cell_type": "code",
   "execution_count": 8,
   "metadata": {
    "scrolled": true
   },
   "outputs": [
    {
     "data": {
      "text/plain": [
       "{'fit_time': array([0.00294638, 0.00283456, 0.00308824, 0.00246668, 0.00291109]),\n",
       " 'score_time': array([0.00131249, 0.0012753 , 0.00161505, 0.00118542, 0.00119448]),\n",
       " 'test_score': array([0.66666667, 0.68333333, 0.68333333, 0.68333333, 0.6779661 ])}"
      ]
     },
     "execution_count": 8,
     "metadata": {},
     "output_type": "execute_result"
    }
   ],
   "source": [
    "#sns.distplot(np.log(data.serum_creatinine), fit=norm)\n",
    "clf = SVC()\n",
    "scores = cross_validate(clf, X, y, cv=5)\n",
    "scores"
   ]
  },
  {
   "cell_type": "markdown",
   "metadata": {},
   "source": [
    "# Comparando métodos de normalização de dados "
   ]
  },
  {
   "cell_type": "markdown",
   "metadata": {},
   "source": [
    "Inicialmente apresentamos os valores de Skewness e Curtose e da correlação desses dados com a categoria DEATH_EVENT"
   ]
  },
  {
   "cell_type": "code",
   "execution_count": 9,
   "metadata": {},
   "outputs": [
    {
     "data": {
      "text/html": [
       "<div>\n",
       "<style scoped>\n",
       "    .dataframe tbody tr th:only-of-type {\n",
       "        vertical-align: middle;\n",
       "    }\n",
       "\n",
       "    .dataframe tbody tr th {\n",
       "        vertical-align: top;\n",
       "    }\n",
       "\n",
       "    .dataframe thead th {\n",
       "        text-align: right;\n",
       "    }\n",
       "</style>\n",
       "<table border=\"1\" class=\"dataframe\">\n",
       "  <thead>\n",
       "    <tr style=\"text-align: right;\">\n",
       "      <th></th>\n",
       "      <th>Death_Corr</th>\n",
       "      <th>Kurt</th>\n",
       "      <th>Skew</th>\n",
       "    </tr>\n",
       "  </thead>\n",
       "  <tbody>\n",
       "    <tr>\n",
       "      <th>age</th>\n",
       "      <td>0.253729</td>\n",
       "      <td>-0.184871</td>\n",
       "      <td>0.423062</td>\n",
       "    </tr>\n",
       "    <tr>\n",
       "      <th>anaemia</th>\n",
       "      <td>0.066270</td>\n",
       "      <td>-1.935563</td>\n",
       "      <td>0.278261</td>\n",
       "    </tr>\n",
       "    <tr>\n",
       "      <th>creatinine_phosphokinase</th>\n",
       "      <td>0.062728</td>\n",
       "      <td>25.149046</td>\n",
       "      <td>4.463110</td>\n",
       "    </tr>\n",
       "    <tr>\n",
       "      <th>diabetes</th>\n",
       "      <td>-0.001943</td>\n",
       "      <td>-1.901254</td>\n",
       "      <td>0.333929</td>\n",
       "    </tr>\n",
       "    <tr>\n",
       "      <th>ejection_fraction</th>\n",
       "      <td>-0.268603</td>\n",
       "      <td>0.041409</td>\n",
       "      <td>0.555383</td>\n",
       "    </tr>\n",
       "    <tr>\n",
       "      <th>high_blood_pressure</th>\n",
       "      <td>0.079351</td>\n",
       "      <td>-1.618076</td>\n",
       "      <td>0.626732</td>\n",
       "    </tr>\n",
       "    <tr>\n",
       "      <th>platelets</th>\n",
       "      <td>-0.049139</td>\n",
       "      <td>6.209255</td>\n",
       "      <td>1.462321</td>\n",
       "    </tr>\n",
       "    <tr>\n",
       "      <th>serum_creatinine</th>\n",
       "      <td>0.294278</td>\n",
       "      <td>25.828239</td>\n",
       "      <td>4.455996</td>\n",
       "    </tr>\n",
       "    <tr>\n",
       "      <th>serum_sodium</th>\n",
       "      <td>-0.195204</td>\n",
       "      <td>4.119712</td>\n",
       "      <td>-1.048136</td>\n",
       "    </tr>\n",
       "    <tr>\n",
       "      <th>sex</th>\n",
       "      <td>-0.004316</td>\n",
       "      <td>-1.618076</td>\n",
       "      <td>-0.626732</td>\n",
       "    </tr>\n",
       "    <tr>\n",
       "      <th>smoking</th>\n",
       "      <td>-0.012623</td>\n",
       "      <td>-1.416080</td>\n",
       "      <td>0.770349</td>\n",
       "    </tr>\n",
       "    <tr>\n",
       "      <th>time</th>\n",
       "      <td>-0.526964</td>\n",
       "      <td>-1.212048</td>\n",
       "      <td>0.127803</td>\n",
       "    </tr>\n",
       "    <tr>\n",
       "      <th>DEATH_EVENT</th>\n",
       "      <td>1.000000</td>\n",
       "      <td>-1.416080</td>\n",
       "      <td>0.770349</td>\n",
       "    </tr>\n",
       "  </tbody>\n",
       "</table>\n",
       "</div>"
      ],
      "text/plain": [
       "                          Death_Corr       Kurt      Skew\n",
       "age                         0.253729  -0.184871  0.423062\n",
       "anaemia                     0.066270  -1.935563  0.278261\n",
       "creatinine_phosphokinase    0.062728  25.149046  4.463110\n",
       "diabetes                   -0.001943  -1.901254  0.333929\n",
       "ejection_fraction          -0.268603   0.041409  0.555383\n",
       "high_blood_pressure         0.079351  -1.618076  0.626732\n",
       "platelets                  -0.049139   6.209255  1.462321\n",
       "serum_creatinine            0.294278  25.828239  4.455996\n",
       "serum_sodium               -0.195204   4.119712 -1.048136\n",
       "sex                        -0.004316  -1.618076 -0.626732\n",
       "smoking                    -0.012623  -1.416080  0.770349\n",
       "time                       -0.526964  -1.212048  0.127803\n",
       "DEATH_EVENT                 1.000000  -1.416080  0.770349"
      ]
     },
     "execution_count": 9,
     "metadata": {},
     "output_type": "execute_result"
    }
   ],
   "source": [
    "skew_kurt = pd.DataFrame(pd.concat([data.corr().DEATH_EVENT,data.kurt(), data.skew()], axis=1)).rename(columns = {\"DEATH_EVENT\":\"Death_Corr\", 0:\"Kurt\", 1:\"Skew\"})\n",
    "skew_kurt"
   ]
  },
  {
   "cell_type": "markdown",
   "metadata": {},
   "source": [
    "# Log"
   ]
  },
  {
   "cell_type": "markdown",
   "metadata": {},
   "source": [
    "## Realizando a lormalizaçao dos dados numéricos não categóricos através da aplicação de logarítmo "
   ]
  },
  {
   "cell_type": "code",
   "execution_count": 10,
   "metadata": {},
   "outputs": [],
   "source": [
    "data = pd.read_csv(\"heart_failure_clinical_records_dataset.csv\")\n",
    "for column in data.columns:\n",
    "    if column not in [\"anaemia\", \"diabetes\", \"high_blood_pressure\", \"sex\", \"smoking\", \"DEATH_EVENT\"]:\n",
    "        data[column] = np.log(data[column])"
   ]
  },
  {
   "cell_type": "markdown",
   "metadata": {},
   "source": [
    "A tabela abaixo demosntra a relação entre Kurtose, Skewness, e a correlação "
   ]
  },
  {
   "cell_type": "code",
   "execution_count": 11,
   "metadata": {},
   "outputs": [],
   "source": [
    "#pd.DataFrame(pd.concat([ skew_kurt ,data.corr().DEATH_EVENT,data.kurt(), data.skew()], axis=1)).rename(columns = {\"DEATH_EVENT\":\"log_Death_corr\", 0:\"log_Kurt\", 1:\"log_Skew\"})"
   ]
  },
  {
   "cell_type": "code",
   "execution_count": 12,
   "metadata": {},
   "outputs": [
    {
     "name": "stdout",
     "output_type": "stream",
     "text": [
      "Acurácia do modelo = 82.66666666666667% \n"
     ]
    }
   ],
   "source": [
    "X, y = data.drop(columns='DEATH_EVENT'), data.DEATH_EVENT\n",
    "x_train, x_test, y_train, y_test = train_test_split(X, y, test_size = 0.25, random_state = 18,  stratify=X.sex)\n",
    "clf = SVC()\n",
    "clf.fit(x_train, y_train)\n",
    "print('Acurácia do modelo = {}% '.format(clf.score(x_test,y_test) *100))"
   ]
  },
  {
   "cell_type": "code",
   "execution_count": 13,
   "metadata": {},
   "outputs": [
    {
     "data": {
      "image/png": "[encoded data removed]",
      "text/plain": [
       "<Figure size 432x288 with 2 Axes>"
      ]
     },
     "metadata": {
      "needs_background": "light"
     },
     "output_type": "display_data"
    }
   ],
   "source": [
    "matrix = plot_confusion_matrix(clf,x_test, y_test)"
   ]
  },
  {
   "cell_type": "code",
   "execution_count": 14,
   "metadata": {},
   "outputs": [],
   "source": [
    "matrix.figure_.savefig(\"log.png\")"
   ]
  },
  {
   "cell_type": "code",
   "execution_count": 15,
   "metadata": {},
   "outputs": [
    {
     "data": {
      "text/plain": [
       "{'fit_time': array([0.00261235, 0.00252843, 0.0023849 , 0.00242352, 0.00230241]),\n",
       " 'score_time': array([0.00123572, 0.00122309, 0.00117493, 0.0011723 , 0.00126696]),\n",
       " 'test_score': array([0.9       , 0.86666667, 0.71666667, 0.68333333, 0.6779661 ])}"
      ]
     },
     "execution_count": 15,
     "metadata": {},
     "output_type": "execute_result"
    }
   ],
   "source": [
    "clf = SVC()\n",
    "scores = cross_validate(clf, X, y, cv=5)\n",
    "scores"
   ]
  },
  {
   "cell_type": "markdown",
   "metadata": {},
   "source": [
    "# Sqrt"
   ]
  },
  {
   "cell_type": "code",
   "execution_count": 16,
   "metadata": {},
   "outputs": [],
   "source": [
    "data = pd.read_csv(\"heart_failure_clinical_records_dataset.csv\")\n",
    "for column in data.columns:\n",
    "    if column not in [\"anaemia\", \"diabetes\", \"high_blood_pressure\", \"sex\", \"smoking\", \"DEATH_EVENT\"]:\n",
    "        data[column] = np.sqrt(data[column])"
   ]
  },
  {
   "cell_type": "code",
   "execution_count": 17,
   "metadata": {},
   "outputs": [],
   "source": [
    "#pd.DataFrame(pd.concat([ skew_kurt ,data.corr().DEATH_EVENT,data.kurt(), data.skew()], axis=1)).rename(columns = {\"DEATH_EVENT\":\"sqrt_Death_corr\", 0:\"sqrt_Kurt\", 1:\"sqrt_Skew\"})"
   ]
  },
  {
   "cell_type": "code",
   "execution_count": 18,
   "metadata": {},
   "outputs": [
    {
     "name": "stdout",
     "output_type": "stream",
     "text": [
      "Acurácia do modelo = 68.0% \n"
     ]
    }
   ],
   "source": [
    "X, y = data.drop(columns='DEATH_EVENT'), data.DEATH_EVENT\n",
    "x_train, x_test, y_train, y_test = train_test_split(X, y, test_size = 0.25, random_state = 18, stratify=y)\n",
    "clf = SVC()\n",
    "clf.fit(x_train, y_train)\n",
    "print('Acurácia do modelo = {}% '.format(clf.score(x_test,y_test) *100))"
   ]
  },
  {
   "cell_type": "code",
   "execution_count": 19,
   "metadata": {},
   "outputs": [
    {
     "data": {
      "image/png": "[encoded data removed]",
      "text/plain": [
       "<Figure size 432x288 with 2 Axes>"
      ]
     },
     "metadata": {
      "needs_background": "light"
     },
     "output_type": "display_data"
    }
   ],
   "source": [
    "matrix = plot_confusion_matrix(clf,x_test, y_test)"
   ]
  },
  {
   "cell_type": "code",
   "execution_count": 20,
   "metadata": {},
   "outputs": [],
   "source": [
    "matrix.figure_.savefig(\"sqrt.png\")"
   ]
  },
  {
   "cell_type": "code",
   "execution_count": 21,
   "metadata": {},
   "outputs": [
    {
     "data": {
      "text/plain": [
       "{'fit_time': array([0.00404239, 0.00333214, 0.00300789, 0.00256777, 0.00238705]),\n",
       " 'score_time': array([0.00180602, 0.00151348, 0.00119567, 0.0011878 , 0.00125194]),\n",
       " 'test_score': array([0.66666667, 0.68333333, 0.68333333, 0.68333333, 0.6779661 ])}"
      ]
     },
     "execution_count": 21,
     "metadata": {},
     "output_type": "execute_result"
    }
   ],
   "source": [
    "clf = SVC()\n",
    "scores = cross_validate(clf, X, y, cv=5)\n",
    "scores"
   ]
  },
  {
   "cell_type": "markdown",
   "metadata": {},
   "source": [
    "# Box-Cox"
   ]
  },
  {
   "cell_type": "code",
   "execution_count": 22,
   "metadata": {},
   "outputs": [],
   "source": [
    "data = pd.read_csv(\"heart_failure_clinical_records_dataset.csv\")\n",
    "for column in data.columns:\n",
    "    if column not in [\"anaemia\", \"diabetes\", \"high_blood_pressure\", \"sex\", \"smoking\", \"DEATH_EVENT\"]:\n",
    "        data[column] = boxcox(data[column])[0]"
   ]
  },
  {
   "cell_type": "code",
   "execution_count": 23,
   "metadata": {},
   "outputs": [],
   "source": [
    "#pd.DataFrame(pd.concat([ skew_kurt ,data.corr().DEATH_EVENT,data.kurt(), data.skew()], axis=1)).rename(columns = {\"DEATH_EVENT\":\"Box-Cox_Death_corr\", 0:\"Box-Cox_Kurt\", 1:\"Box-cox_Skew\"})"
   ]
  },
  {
   "cell_type": "code",
   "execution_count": 24,
   "metadata": {},
   "outputs": [
    {
     "name": "stdout",
     "output_type": "stream",
     "text": [
      "Acurácia do modelo = 68.0% \n"
     ]
    }
   ],
   "source": [
    "X, y = data.drop(columns='DEATH_EVENT'), data.DEATH_EVENT\n",
    "x_train, x_test, y_train, y_test = train_test_split(X, y, test_size = 0.25, random_state = 18, stratify=y)\n",
    "clf = SVC()\n",
    "clf.fit(x_train, y_train)\n",
    "print('Acurácia do modelo = {}% '.format(clf.score(x_test,y_test) *100))"
   ]
  },
  {
   "cell_type": "code",
   "execution_count": 25,
   "metadata": {},
   "outputs": [
    {
     "data": {
      "image/png": "[encoded data removed]",
      "text/plain": [
       "<Figure size 432x288 with 2 Axes>"
      ]
     },
     "metadata": {
      "needs_background": "light"
     },
     "output_type": "display_data"
    }
   ],
   "source": [
    "matrix = plot_confusion_matrix(clf,x_test, y_test)"
   ]
  },
  {
   "cell_type": "code",
   "execution_count": 26,
   "metadata": {},
   "outputs": [],
   "source": [
    "matrix.figure_.savefig(\"box-cox.png\")"
   ]
  },
  {
   "cell_type": "code",
   "execution_count": 27,
   "metadata": {},
   "outputs": [
    {
     "data": {
      "text/plain": [
       "{'fit_time': array([0.00471044, 0.00252604, 0.00449204, 0.00277209, 0.00258136]),\n",
       " 'score_time': array([0.00179195, 0.00129128, 0.00134563, 0.00120258, 0.0012033 ]),\n",
       " 'test_score': array([0.66666667, 0.68333333, 0.68333333, 0.68333333, 0.6779661 ])}"
      ]
     },
     "execution_count": 27,
     "metadata": {},
     "output_type": "execute_result"
    }
   ],
   "source": [
    "clf = SVC()\n",
    "scores = cross_validate(clf, X, y, cv=5)\n",
    "scores"
   ]
  },
  {
   "cell_type": "markdown",
   "metadata": {},
   "source": [
    "# Aplicando escaladores de dados (testar diferentes Scalers)"
   ]
  },
  {
   "cell_type": "code",
   "execution_count": 28,
   "metadata": {},
   "outputs": [],
   "source": [
    "def scale_fit_data(scaler):\n",
    "    data = pd.read_csv(\"heart_failure_clinical_records_dataset.csv\")\n",
    "    for column in data.columns:\n",
    "        if column not in [\"anaemia\", \"diabetes\", \"high_blood_pressure\", \"sex\", \"smoking\", \"DEATH_EVENT\"]:\n",
    "            data[column] = np.log(data[column])\n",
    "    X = scaler.fit_transform(data.drop(columns = [\"DEATH_EVENT\"]))\n",
    "    y = list(data[\"DEATH_EVENT\"])\n",
    "    return(X,y)"
   ]
  },
  {
   "cell_type": "markdown",
   "metadata": {},
   "source": [
    "# Standart Scaler"
   ]
  },
  {
   "cell_type": "code",
   "execution_count": 29,
   "metadata": {},
   "outputs": [],
   "source": [
    "scaler = StandardScaler()"
   ]
  },
  {
   "cell_type": "code",
   "execution_count": 30,
   "metadata": {},
   "outputs": [
    {
     "data": {
      "text/plain": [
       "0.8533333333333334"
      ]
     },
     "execution_count": 30,
     "metadata": {},
     "output_type": "execute_result"
    }
   ],
   "source": [
    "X,y = scale_fit_data(scaler)\n",
    "x_train, x_test, y_train, y_test = train_test_split(X, y, test_size = 0.25, random_state = 18, stratify=y)\n",
    "clf = SVC()\n",
    "clf.fit(x_train, y_train)\n",
    "clf.score(x_test,y_test)\n",
    "#confusion_matrix(clf.predict(x_test), y_test)\n"
   ]
  },
  {
   "cell_type": "code",
   "execution_count": 31,
   "metadata": {},
   "outputs": [
    {
     "data": {
      "image/png": "[encoded data removed]",
      "text/plain": [
       "<Figure size 432x288 with 2 Axes>"
      ]
     },
     "metadata": {
      "needs_background": "light"
     },
     "output_type": "display_data"
    }
   ],
   "source": [
    "matrix = plot_confusion_matrix(clf,x_test, y_test)"
   ]
  },
  {
   "cell_type": "code",
   "execution_count": 32,
   "metadata": {},
   "outputs": [],
   "source": [
    "matrix.figure_.savefig(\"standart_scaler.png\")"
   ]
  },
  {
   "cell_type": "code",
   "execution_count": 33,
   "metadata": {},
   "outputs": [
    {
     "data": {
      "text/plain": [
       "{'fit_time': array([0.00128675, 0.00117564, 0.00119853, 0.00120449, 0.00106025]),\n",
       " 'score_time': array([0.00035739, 0.00032854, 0.00032139, 0.0003202 , 0.00030446]),\n",
       " 'test_score': array([0.76666667, 0.8       , 0.83333333, 0.78333333, 0.71186441])}"
      ]
     },
     "execution_count": 33,
     "metadata": {},
     "output_type": "execute_result"
    }
   ],
   "source": [
    "clf = SVC()\n",
    "scores = cross_validate(clf, X, y, cv=5)\n",
    "scores"
   ]
  },
  {
   "cell_type": "markdown",
   "metadata": {},
   "source": [
    "# Min_Max_scaler"
   ]
  },
  {
   "cell_type": "code",
   "execution_count": 34,
   "metadata": {},
   "outputs": [],
   "source": [
    "scaler = MinMaxScaler()"
   ]
  },
  {
   "cell_type": "code",
   "execution_count": 35,
   "metadata": {},
   "outputs": [
    {
     "data": {
      "text/plain": [
       "0.8266666666666667"
      ]
     },
     "execution_count": 35,
     "metadata": {},
     "output_type": "execute_result"
    }
   ],
   "source": [
    "X , y = scale_fit_data(scaler)\n",
    "x_train, x_test, y_train, y_test = train_test_split(X, y, test_size = 0.25, random_state = 18, stratify=y)\n",
    "clf = SVC()\n",
    "clf.fit(x_train, y_train)\n",
    "clf.score(x_test,y_test)\n",
    "\n",
    "\n"
   ]
  },
  {
   "cell_type": "code",
   "execution_count": 36,
   "metadata": {},
   "outputs": [
    {
     "data": {
      "image/png": "[encoded data removed]",
      "text/plain": [
       "<Figure size 432x288 with 2 Axes>"
      ]
     },
     "metadata": {
      "needs_background": "light"
     },
     "output_type": "display_data"
    }
   ],
   "source": [
    "matrix = plot_confusion_matrix(clf,x_test, y_test)"
   ]
  },
  {
   "cell_type": "code",
   "execution_count": 37,
   "metadata": {},
   "outputs": [],
   "source": [
    "matrix.figure_.savefig(\"min_max.png\")"
   ]
  },
  {
   "cell_type": "code",
   "execution_count": 38,
   "metadata": {},
   "outputs": [
    {
     "data": {
      "text/plain": [
       "{'fit_time': array([0.00179052, 0.00167394, 0.00174356, 0.00126266, 0.00107265]),\n",
       " 'score_time': array([0.00051117, 0.00046849, 0.00047874, 0.00032783, 0.00030804]),\n",
       " 'test_score': array([0.85      , 0.81666667, 0.81666667, 0.66666667, 0.6779661 ])}"
      ]
     },
     "execution_count": 38,
     "metadata": {},
     "output_type": "execute_result"
    }
   ],
   "source": [
    "clf = SVC()\n",
    "scores = cross_validate(clf, X, y, cv=5)\n",
    "scores"
   ]
  },
  {
   "cell_type": "markdown",
   "metadata": {},
   "source": [
    "# Robust Scaler"
   ]
  },
  {
   "cell_type": "code",
   "execution_count": 39,
   "metadata": {},
   "outputs": [],
   "source": [
    "scaler = RobustScaler()"
   ]
  },
  {
   "cell_type": "code",
   "execution_count": 40,
   "metadata": {},
   "outputs": [
    {
     "data": {
      "text/plain": [
       "0.84"
      ]
     },
     "execution_count": 40,
     "metadata": {},
     "output_type": "execute_result"
    }
   ],
   "source": [
    "X , y = scale_fit_data(scaler)\n",
    "x_train, x_test, y_train, y_test = train_test_split(X, y, test_size = 0.25, random_state = 18, stratify=y)\n",
    "clf = SVC()\n",
    "clf.fit(x_train, y_train)\n",
    "clf.score(x_test,y_test)"
   ]
  },
  {
   "cell_type": "code",
   "execution_count": 41,
   "metadata": {},
   "outputs": [
    {
     "data": {
      "image/png": "[encoded data removed]",
      "text/plain": [
       "<Figure size 432x288 with 2 Axes>"
      ]
     },
     "metadata": {
      "needs_background": "light"
     },
     "output_type": "display_data"
    }
   ],
   "source": [
    "matrix = plot_confusion_matrix(clf,x_test, y_test)"
   ]
  },
  {
   "cell_type": "code",
   "execution_count": 42,
   "metadata": {},
   "outputs": [],
   "source": [
    "matrix.figure_.savefig(\"robust.png\")"
   ]
  },
  {
   "cell_type": "code",
   "execution_count": 43,
   "metadata": {},
   "outputs": [
    {
     "data": {
      "text/plain": [
       "{'fit_time': array([0.00131917, 0.00117564, 0.00103545, 0.00106764, 0.00104237]),\n",
       " 'score_time': array([0.00035548, 0.00032043, 0.00029898, 0.00031066, 0.00029755]),\n",
       " 'test_score': array([0.76666667, 0.8       , 0.88333333, 0.76666667, 0.69491525])}"
      ]
     },
     "execution_count": 43,
     "metadata": {},
     "output_type": "execute_result"
    }
   ],
   "source": [
    "clf = SVC()\n",
    "scores = cross_validate(clf, X, y, cv=5)\n",
    "scores"
   ]
  },
  {
   "cell_type": "markdown",
   "metadata": {},
   "source": [
    "# Feature Sel by Corr > 0.25"
   ]
  },
  {
   "cell_type": "code",
   "execution_count": 44,
   "metadata": {},
   "outputs": [],
   "source": [
    "data = pd.read_csv(\"heart_failure_clinical_records_dataset.csv\")\n",
    "data = pd.DataFrame(data, columns=column_names)\n",
    "scaler = StandardScaler()\n",
    "for column in data.columns:\n",
    "    if column not in [\"anaemia\", \"diabetes\", \"high_blood_pressure\", \"sex\", \"smoking\", \"DEATH_EVENT\"]:\n",
    "        data[column] = np.log(data[column])\n",
    "data = data.loc[: ,abs(data.corr().DEATH_EVENT)> 0.25]\n",
    "X = scaler.fit_transform(data.drop(columns = [\"DEATH_EVENT\"]))\n",
    "y = list(data[\"DEATH_EVENT\"])"
   ]
  },
  {
   "cell_type": "code",
   "execution_count": 45,
   "metadata": {},
   "outputs": [
    {
     "data": {
      "text/plain": [
       "0.8933333333333333"
      ]
     },
     "execution_count": 45,
     "metadata": {},
     "output_type": "execute_result"
    }
   ],
   "source": [
    "x_train, x_test, y_train, y_test = train_test_split(X, y, test_size = 0.25, random_state = 18, stratify= y)\n",
    "clf = SVC()\n",
    "clf.fit(x_train, y_train)\n",
    "clf.score(x_test,y_test)"
   ]
  },
  {
   "cell_type": "code",
   "execution_count": 46,
   "metadata": {},
   "outputs": [
    {
     "data": {
      "image/png": "[encoded data removed]",
      "text/plain": [
       "<Figure size 432x288 with 2 Axes>"
      ]
     },
     "metadata": {
      "needs_background": "light"
     },
     "output_type": "display_data"
    }
   ],
   "source": [
    "matrix = plot_confusion_matrix(clf,x_test, y_test)"
   ]
  },
  {
   "cell_type": "code",
   "execution_count": 47,
   "metadata": {},
   "outputs": [],
   "source": [
    "matrix.figure_.savefig(\"feature_selec.png\")"
   ]
  },
  {
   "cell_type": "code",
   "execution_count": 48,
   "metadata": {},
   "outputs": [
    {
     "data": {
      "text/plain": [
       "{'fit_time': array([0.00087667, 0.00085855, 0.0008378 , 0.00085568, 0.00073218]),\n",
       " 'score_time': array([0.00027323, 0.0002532 , 0.00024962, 0.00024509, 0.00024724]),\n",
       " 'test_score': array([0.7       , 0.81666667, 0.91666667, 0.78333333, 0.71186441])}"
      ]
     },
     "execution_count": 48,
     "metadata": {},
     "output_type": "execute_result"
    }
   ],
   "source": [
    "clf = SVC()\n",
    "scores = cross_validate(clf, X, y, cv=5)\n",
    "scores"
   ]
  },
  {
   "cell_type": "code",
   "execution_count": 49,
   "metadata": {},
   "outputs": [
    {
     "data": {
      "text/html": [
       "<div>\n",
       "<style scoped>\n",
       "    .dataframe tbody tr th:only-of-type {\n",
       "        vertical-align: middle;\n",
       "    }\n",
       "\n",
       "    .dataframe tbody tr th {\n",
       "        vertical-align: top;\n",
       "    }\n",
       "\n",
       "    .dataframe thead th {\n",
       "        text-align: right;\n",
       "    }\n",
       "</style>\n",
       "<table border=\"1\" class=\"dataframe\">\n",
       "  <thead>\n",
       "    <tr style=\"text-align: right;\">\n",
       "      <th></th>\n",
       "      <th>ejection_fraction</th>\n",
       "      <th>serum_creatinine</th>\n",
       "      <th>time</th>\n",
       "      <th>DEATH_EVENT</th>\n",
       "    </tr>\n",
       "  </thead>\n",
       "  <tbody>\n",
       "    <tr>\n",
       "      <th>0</th>\n",
       "      <td>2.995732</td>\n",
       "      <td>0.641854</td>\n",
       "      <td>1.386294</td>\n",
       "      <td>1</td>\n",
       "    </tr>\n",
       "    <tr>\n",
       "      <th>1</th>\n",
       "      <td>3.637586</td>\n",
       "      <td>0.095310</td>\n",
       "      <td>1.791759</td>\n",
       "      <td>1</td>\n",
       "    </tr>\n",
       "    <tr>\n",
       "      <th>2</th>\n",
       "      <td>2.995732</td>\n",
       "      <td>0.262364</td>\n",
       "      <td>1.945910</td>\n",
       "      <td>1</td>\n",
       "    </tr>\n",
       "    <tr>\n",
       "      <th>3</th>\n",
       "      <td>2.995732</td>\n",
       "      <td>0.641854</td>\n",
       "      <td>1.945910</td>\n",
       "      <td>1</td>\n",
       "    </tr>\n",
       "    <tr>\n",
       "      <th>4</th>\n",
       "      <td>2.995732</td>\n",
       "      <td>0.993252</td>\n",
       "      <td>2.079442</td>\n",
       "      <td>1</td>\n",
       "    </tr>\n",
       "    <tr>\n",
       "      <th>...</th>\n",
       "      <td>...</td>\n",
       "      <td>...</td>\n",
       "      <td>...</td>\n",
       "      <td>...</td>\n",
       "    </tr>\n",
       "    <tr>\n",
       "      <th>294</th>\n",
       "      <td>3.637586</td>\n",
       "      <td>0.095310</td>\n",
       "      <td>5.598422</td>\n",
       "      <td>0</td>\n",
       "    </tr>\n",
       "    <tr>\n",
       "      <th>295</th>\n",
       "      <td>3.637586</td>\n",
       "      <td>0.182322</td>\n",
       "      <td>5.602119</td>\n",
       "      <td>0</td>\n",
       "    </tr>\n",
       "    <tr>\n",
       "      <th>296</th>\n",
       "      <td>4.094345</td>\n",
       "      <td>-0.223144</td>\n",
       "      <td>5.627621</td>\n",
       "      <td>0</td>\n",
       "    </tr>\n",
       "    <tr>\n",
       "      <th>297</th>\n",
       "      <td>3.637586</td>\n",
       "      <td>0.336472</td>\n",
       "      <td>5.634790</td>\n",
       "      <td>0</td>\n",
       "    </tr>\n",
       "    <tr>\n",
       "      <th>298</th>\n",
       "      <td>3.806662</td>\n",
       "      <td>0.470004</td>\n",
       "      <td>5.652489</td>\n",
       "      <td>0</td>\n",
       "    </tr>\n",
       "  </tbody>\n",
       "</table>\n",
       "<p>299 rows × 4 columns</p>\n",
       "</div>"
      ],
      "text/plain": [
       "     ejection_fraction  serum_creatinine      time  DEATH_EVENT\n",
       "0             2.995732          0.641854  1.386294            1\n",
       "1             3.637586          0.095310  1.791759            1\n",
       "2             2.995732          0.262364  1.945910            1\n",
       "3             2.995732          0.641854  1.945910            1\n",
       "4             2.995732          0.993252  2.079442            1\n",
       "..                 ...               ...       ...          ...\n",
       "294           3.637586          0.095310  5.598422            0\n",
       "295           3.637586          0.182322  5.602119            0\n",
       "296           4.094345         -0.223144  5.627621            0\n",
       "297           3.637586          0.336472  5.634790            0\n",
       "298           3.806662          0.470004  5.652489            0\n",
       "\n",
       "[299 rows x 4 columns]"
      ]
     },
     "execution_count": 49,
     "metadata": {},
     "output_type": "execute_result"
    }
   ],
   "source": [
    "data"
   ]
  },
  {
   "cell_type": "code",
   "execution_count": null,
   "metadata": {},
   "outputs": [],
   "source": []
  },
  {
   "cell_type": "code",
   "execution_count": null,
   "metadata": {},
   "outputs": [],
   "source": []
  },
  {
   "cell_type": "code",
   "execution_count": null,
   "metadata": {},
   "outputs": [],
   "source": []
  }
 ],
 "metadata": {
  "kernelspec": {
   "display_name": "Python 3",
   "language": "python",
   "name": "python3"
  },
  "language_info": {
   "codemirror_mode": {
    "name": "ipython",
    "version": 3
   },
   "file_extension": ".py",
   "mimetype": "text/x-python",
   "name": "python",
   "nbconvert_exporter": "python",
   "pygments_lexer": "ipython3",
   "version": "3.8.3"
  }
 },
 "nbformat": 4,
 "nbformat_minor": 4
}
